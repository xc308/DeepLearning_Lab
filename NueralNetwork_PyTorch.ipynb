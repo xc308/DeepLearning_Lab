{
  "nbformat": 4,
  "nbformat_minor": 0,
  "metadata": {
    "colab": {
      "provenance": [],
      "authorship_tag": "ABX9TyMqEirdlEgPc6tl2k8r9HCZ",
      "include_colab_link": true
    },
    "kernelspec": {
      "name": "python3",
      "display_name": "Python 3"
    },
    "language_info": {
      "name": "python"
    }
  },
  "cells": [
    {
      "cell_type": "markdown",
      "metadata": {
        "id": "view-in-github",
        "colab_type": "text"
      },
      "source": [
        "<a href=\"https://colab.research.google.com/github/xc308/DeepLearning_Lab/blob/main/NueralNetwork_PyTorch.ipynb\" target=\"_parent\"><img src=\"https://colab.research.google.com/assets/colab-badge.svg\" alt=\"Open In Colab\"/></a>"
      ]
    },
    {
      "cell_type": "code",
      "execution_count": null,
      "metadata": {
        "id": "wvmg14b1gTBp"
      },
      "outputs": [],
      "source": []
    },
    {
      "cell_type": "markdown",
      "source": [
        "## Creat matrix (2-d tensor) using PyTorch\n",
        "\n",
        "\n",
        "\n"
      ],
      "metadata": {
        "id": "svgmRIl3gUjQ"
      }
    },
    {
      "cell_type": "code",
      "source": [
        "import torch\n",
        "import torch.nn as nn\n",
        "\n",
        "import numpy as np\n",
        "import matplotlib.pyplot as plt\n",
        "\n",
        "\n",
        "import numpy as np\n",
        "import matplotlib.pyplot as plt"
      ],
      "metadata": {
        "id": "3cyfkB8wgZoG"
      },
      "execution_count": 1,
      "outputs": []
    },
    {
      "cell_type": "code",
      "source": [
        "# Using torch.tensor (Manually Specified)\n",
        "\n",
        "\n",
        "A = torch.tensor([[1, 2, 3], [4, 5, 6]])\n",
        "print(A)\n",
        "\n",
        "A = torch.tensor([[1, 2, 3],[4, 5, 6]])\n",
        "print(A)"
      ],
      "metadata": {
        "colab": {
          "base_uri": "https://localhost:8080/"
        },
        "id": "xGvY_-tog9Bh",
        "outputId": "4ec07b3a-aab3-4838-87f2-b5cca67f1f1f"
      },
      "execution_count": 4,
      "outputs": [
        {
          "output_type": "stream",
          "name": "stdout",
          "text": [
            "tensor([[1, 2, 3],\n",
            "        [4, 5, 6]])\n",
            "tensor([[1, 2, 3],\n",
            "        [4, 5, 6]])\n"
          ]
        }
      ]
    },
    {
      "cell_type": "code",
      "source": [
        "## Using torch.arange and view (Reshaping)\n",
        "\n",
        "B = torch.arange(12).view(3, 4)\n",
        "print(B)"
      ],
      "metadata": {
        "colab": {
          "base_uri": "https://localhost:8080/"
        },
        "id": "gagVLBf_hxrj",
        "outputId": "5609ebae-03a7-450e-df4c-45317c7ae423"
      },
      "execution_count": 6,
      "outputs": [
        {
          "output_type": "stream",
          "name": "stdout",
          "text": [
            "tensor([[ 0,  1,  2,  3],\n",
            "        [ 4,  5,  6,  7],\n",
            "        [ 8,  9, 10, 11]])\n"
          ]
        }
      ]
    },
    {
      "cell_type": "code",
      "source": [
        "## Using torch.zeros or torch.ones\n",
        "\n",
        "C = torch.zeros(3, 3) # 3 by 3 matrix filled with 0s\n",
        "D = torch.ones(4, 2) # 4 by 2 matrix filled with 1s\n",
        "\n",
        "print(C)\n",
        "print(D)"
      ],
      "metadata": {
        "colab": {
          "base_uri": "https://localhost:8080/"
        },
        "id": "aLBt-i_BiJEJ",
        "outputId": "a3d91ce6-5ef0-4005-c345-642f96881e4f"
      },
      "execution_count": 8,
      "outputs": [
        {
          "output_type": "stream",
          "name": "stdout",
          "text": [
            "tensor([[0., 0., 0.],\n",
            "        [0., 0., 0.],\n",
            "        [0., 0., 0.]])\n",
            "tensor([[1., 1.],\n",
            "        [1., 1.],\n",
            "        [1., 1.],\n",
            "        [1., 1.]])\n"
          ]
        }
      ]
    },
    {
      "cell_type": "code",
      "source": [
        "# Using torch.rand or torch.randn for Random Matrices\n",
        "\n",
        "E = torch.rand(2, 4) # a 2 by 4 matrix filled with random number from 0, 1\n",
        "F = torch.randn(4, 5) # a 4 by 5 matrix filled with ranodm number fron std normal\n",
        "\n",
        "print(E)\n",
        "print(F)\n"
      ],
      "metadata": {
        "colab": {
          "base_uri": "https://localhost:8080/"
        },
        "id": "jeILvFNeifh8",
        "outputId": "e5cb76fe-7f1e-44c4-d4a2-5fbe616c018a"
      },
      "execution_count": 9,
      "outputs": [
        {
          "output_type": "stream",
          "name": "stdout",
          "text": [
            "tensor([[0.8988, 0.1581, 0.9359, 0.8968],\n",
            "        [0.4674, 0.2212, 0.4600, 0.4200]])\n",
            "tensor([[ 1.0001e+00,  1.7263e+00,  4.4038e-01,  1.0204e+00, -1.2916e+00],\n",
            "        [ 1.4175e-01,  9.9924e-04,  3.0347e-01,  5.8593e-01, -7.5681e-01],\n",
            "        [ 4.7250e-01, -6.1435e-01,  6.5977e-01,  8.3668e-01,  1.1561e+00],\n",
            "        [-1.6662e+00, -3.3526e-01, -1.9153e+00,  4.2645e-01, -7.4872e-01]])\n"
          ]
        }
      ]
    },
    {
      "cell_type": "code",
      "source": [
        "# torch.eye for an Identity Matrix\n",
        "\n",
        "I = torch.eye(4)\n",
        "print(I)"
      ],
      "metadata": {
        "colab": {
          "base_uri": "https://localhost:8080/"
        },
        "id": "xzE16_gWjrjN",
        "outputId": "3dae0099-eac8-41f6-804f-f90c57429872"
      },
      "execution_count": 10,
      "outputs": [
        {
          "output_type": "stream",
          "name": "stdout",
          "text": [
            "tensor([[1., 0., 0., 0.],\n",
            "        [0., 1., 0., 0.],\n",
            "        [0., 0., 1., 0.],\n",
            "        [0., 0., 0., 1.]])\n"
          ]
        }
      ]
    },
    {
      "cell_type": "markdown",
      "source": [
        "Define a 4-d Tensor.'''\n",
        "Use torch.zeros to initialize a 4-d Tensor of zeros with size 10 x 3 x 256 x 256.\n",
        "  You can think of this as 10 images where each image is RGB 256 x 256.\n",
        "\n"
      ],
      "metadata": {
        "id": "R1Kebb6skBZx"
      }
    },
    {
      "cell_type": "code",
      "source": [
        "images = torch.zeros(10, 3, 256, 256)\n",
        "print(images)"
      ],
      "metadata": {
        "colab": {
          "base_uri": "https://localhost:8080/"
        },
        "id": "zNscHnP2kDxp",
        "outputId": "b9e8810c-10a8-4790-ed6c-ff66bc7addc2"
      },
      "execution_count": 11,
      "outputs": [
        {
          "output_type": "stream",
          "name": "stdout",
          "text": [
            "tensor([[[[0., 0., 0.,  ..., 0., 0., 0.],\n",
            "          [0., 0., 0.,  ..., 0., 0., 0.],\n",
            "          [0., 0., 0.,  ..., 0., 0., 0.],\n",
            "          ...,\n",
            "          [0., 0., 0.,  ..., 0., 0., 0.],\n",
            "          [0., 0., 0.,  ..., 0., 0., 0.],\n",
            "          [0., 0., 0.,  ..., 0., 0., 0.]],\n",
            "\n",
            "         [[0., 0., 0.,  ..., 0., 0., 0.],\n",
            "          [0., 0., 0.,  ..., 0., 0., 0.],\n",
            "          [0., 0., 0.,  ..., 0., 0., 0.],\n",
            "          ...,\n",
            "          [0., 0., 0.,  ..., 0., 0., 0.],\n",
            "          [0., 0., 0.,  ..., 0., 0., 0.],\n",
            "          [0., 0., 0.,  ..., 0., 0., 0.]],\n",
            "\n",
            "         [[0., 0., 0.,  ..., 0., 0., 0.],\n",
            "          [0., 0., 0.,  ..., 0., 0., 0.],\n",
            "          [0., 0., 0.,  ..., 0., 0., 0.],\n",
            "          ...,\n",
            "          [0., 0., 0.,  ..., 0., 0., 0.],\n",
            "          [0., 0., 0.,  ..., 0., 0., 0.],\n",
            "          [0., 0., 0.,  ..., 0., 0., 0.]]],\n",
            "\n",
            "\n",
            "        [[[0., 0., 0.,  ..., 0., 0., 0.],\n",
            "          [0., 0., 0.,  ..., 0., 0., 0.],\n",
            "          [0., 0., 0.,  ..., 0., 0., 0.],\n",
            "          ...,\n",
            "          [0., 0., 0.,  ..., 0., 0., 0.],\n",
            "          [0., 0., 0.,  ..., 0., 0., 0.],\n",
            "          [0., 0., 0.,  ..., 0., 0., 0.]],\n",
            "\n",
            "         [[0., 0., 0.,  ..., 0., 0., 0.],\n",
            "          [0., 0., 0.,  ..., 0., 0., 0.],\n",
            "          [0., 0., 0.,  ..., 0., 0., 0.],\n",
            "          ...,\n",
            "          [0., 0., 0.,  ..., 0., 0., 0.],\n",
            "          [0., 0., 0.,  ..., 0., 0., 0.],\n",
            "          [0., 0., 0.,  ..., 0., 0., 0.]],\n",
            "\n",
            "         [[0., 0., 0.,  ..., 0., 0., 0.],\n",
            "          [0., 0., 0.,  ..., 0., 0., 0.],\n",
            "          [0., 0., 0.,  ..., 0., 0., 0.],\n",
            "          ...,\n",
            "          [0., 0., 0.,  ..., 0., 0., 0.],\n",
            "          [0., 0., 0.,  ..., 0., 0., 0.],\n",
            "          [0., 0., 0.,  ..., 0., 0., 0.]]],\n",
            "\n",
            "\n",
            "        [[[0., 0., 0.,  ..., 0., 0., 0.],\n",
            "          [0., 0., 0.,  ..., 0., 0., 0.],\n",
            "          [0., 0., 0.,  ..., 0., 0., 0.],\n",
            "          ...,\n",
            "          [0., 0., 0.,  ..., 0., 0., 0.],\n",
            "          [0., 0., 0.,  ..., 0., 0., 0.],\n",
            "          [0., 0., 0.,  ..., 0., 0., 0.]],\n",
            "\n",
            "         [[0., 0., 0.,  ..., 0., 0., 0.],\n",
            "          [0., 0., 0.,  ..., 0., 0., 0.],\n",
            "          [0., 0., 0.,  ..., 0., 0., 0.],\n",
            "          ...,\n",
            "          [0., 0., 0.,  ..., 0., 0., 0.],\n",
            "          [0., 0., 0.,  ..., 0., 0., 0.],\n",
            "          [0., 0., 0.,  ..., 0., 0., 0.]],\n",
            "\n",
            "         [[0., 0., 0.,  ..., 0., 0., 0.],\n",
            "          [0., 0., 0.,  ..., 0., 0., 0.],\n",
            "          [0., 0., 0.,  ..., 0., 0., 0.],\n",
            "          ...,\n",
            "          [0., 0., 0.,  ..., 0., 0., 0.],\n",
            "          [0., 0., 0.,  ..., 0., 0., 0.],\n",
            "          [0., 0., 0.,  ..., 0., 0., 0.]]],\n",
            "\n",
            "\n",
            "        ...,\n",
            "\n",
            "\n",
            "        [[[0., 0., 0.,  ..., 0., 0., 0.],\n",
            "          [0., 0., 0.,  ..., 0., 0., 0.],\n",
            "          [0., 0., 0.,  ..., 0., 0., 0.],\n",
            "          ...,\n",
            "          [0., 0., 0.,  ..., 0., 0., 0.],\n",
            "          [0., 0., 0.,  ..., 0., 0., 0.],\n",
            "          [0., 0., 0.,  ..., 0., 0., 0.]],\n",
            "\n",
            "         [[0., 0., 0.,  ..., 0., 0., 0.],\n",
            "          [0., 0., 0.,  ..., 0., 0., 0.],\n",
            "          [0., 0., 0.,  ..., 0., 0., 0.],\n",
            "          ...,\n",
            "          [0., 0., 0.,  ..., 0., 0., 0.],\n",
            "          [0., 0., 0.,  ..., 0., 0., 0.],\n",
            "          [0., 0., 0.,  ..., 0., 0., 0.]],\n",
            "\n",
            "         [[0., 0., 0.,  ..., 0., 0., 0.],\n",
            "          [0., 0., 0.,  ..., 0., 0., 0.],\n",
            "          [0., 0., 0.,  ..., 0., 0., 0.],\n",
            "          ...,\n",
            "          [0., 0., 0.,  ..., 0., 0., 0.],\n",
            "          [0., 0., 0.,  ..., 0., 0., 0.],\n",
            "          [0., 0., 0.,  ..., 0., 0., 0.]]],\n",
            "\n",
            "\n",
            "        [[[0., 0., 0.,  ..., 0., 0., 0.],\n",
            "          [0., 0., 0.,  ..., 0., 0., 0.],\n",
            "          [0., 0., 0.,  ..., 0., 0., 0.],\n",
            "          ...,\n",
            "          [0., 0., 0.,  ..., 0., 0., 0.],\n",
            "          [0., 0., 0.,  ..., 0., 0., 0.],\n",
            "          [0., 0., 0.,  ..., 0., 0., 0.]],\n",
            "\n",
            "         [[0., 0., 0.,  ..., 0., 0., 0.],\n",
            "          [0., 0., 0.,  ..., 0., 0., 0.],\n",
            "          [0., 0., 0.,  ..., 0., 0., 0.],\n",
            "          ...,\n",
            "          [0., 0., 0.,  ..., 0., 0., 0.],\n",
            "          [0., 0., 0.,  ..., 0., 0., 0.],\n",
            "          [0., 0., 0.,  ..., 0., 0., 0.]],\n",
            "\n",
            "         [[0., 0., 0.,  ..., 0., 0., 0.],\n",
            "          [0., 0., 0.,  ..., 0., 0., 0.],\n",
            "          [0., 0., 0.,  ..., 0., 0., 0.],\n",
            "          ...,\n",
            "          [0., 0., 0.,  ..., 0., 0., 0.],\n",
            "          [0., 0., 0.,  ..., 0., 0., 0.],\n",
            "          [0., 0., 0.,  ..., 0., 0., 0.]]],\n",
            "\n",
            "\n",
            "        [[[0., 0., 0.,  ..., 0., 0., 0.],\n",
            "          [0., 0., 0.,  ..., 0., 0., 0.],\n",
            "          [0., 0., 0.,  ..., 0., 0., 0.],\n",
            "          ...,\n",
            "          [0., 0., 0.,  ..., 0., 0., 0.],\n",
            "          [0., 0., 0.,  ..., 0., 0., 0.],\n",
            "          [0., 0., 0.,  ..., 0., 0., 0.]],\n",
            "\n",
            "         [[0., 0., 0.,  ..., 0., 0., 0.],\n",
            "          [0., 0., 0.,  ..., 0., 0., 0.],\n",
            "          [0., 0., 0.,  ..., 0., 0., 0.],\n",
            "          ...,\n",
            "          [0., 0., 0.,  ..., 0., 0., 0.],\n",
            "          [0., 0., 0.,  ..., 0., 0., 0.],\n",
            "          [0., 0., 0.,  ..., 0., 0., 0.]],\n",
            "\n",
            "         [[0., 0., 0.,  ..., 0., 0., 0.],\n",
            "          [0., 0., 0.,  ..., 0., 0., 0.],\n",
            "          [0., 0., 0.,  ..., 0., 0., 0.],\n",
            "          ...,\n",
            "          [0., 0., 0.,  ..., 0., 0., 0.],\n",
            "          [0., 0., 0.,  ..., 0., 0., 0.],\n",
            "          [0., 0., 0.,  ..., 0., 0., 0.]]]])\n"
          ]
        }
      ]
    },
    {
      "cell_type": "markdown",
      "source": [
        "# 1.3 Neural networks in PyTorch\n",
        "\n",
        "- define neural networks in PyTorch. PyTorch uses torch.nn.Module\n",
        "-  a simple perceptron defined by just one dense (aka fully-connected or linear) layer:  𝑦=𝜎(𝑊𝑥+𝑏) , where  𝑊  represents a matrix of weights,  𝑏  is a bias,  𝑥  is the input,  𝜎  is the sigmoid activation function, and  𝑦  is the output.\n",
        "\n",
        "- Layers implement common neural networks operations. In PyTorch, when we implement a layer, we subclass nn.Module and define the parameters of the layer as attributes of our new class.\n",
        "\n",
        "-\n"
      ],
      "metadata": {
        "id": "EQ_Q0EcfrJ_p"
      }
    },
    {
      "cell_type": "code",
      "source": [
        "class OurDenseLayer(torch.nn.Module):\n",
        "  def __init__(self, num_inputs, num_outputs):\n",
        "    super(OurDenseLayer, self).__init__()  # call nn.Modules's constructor to initialize nn.Model properly\n",
        "\n",
        "    # Define and initialize parameters: a weight matrix W, and bias b\n",
        "    # torch.nn.Parameter makes the self.W and self.bias as trainable parameters\n",
        "\n",
        "    self.W = torch.nn.Parameter(torch.randn(num_inputs, num_outputs))\n",
        "    self.bias = torch.nn.Parameter(torch.randn(num_outputs))\n",
        "\n",
        "\n",
        "    def forward(self, x): # x is the input value\n",
        "      z = torch.matmult(x, self.W) + self.b   # linear combination\n",
        "\n",
        "      y = torch.sigmoid(z)\n",
        "      return y\n"
      ],
      "metadata": {
        "id": "dmaRzJzVr1vO"
      },
      "execution_count": 12,
      "outputs": []
    },
    {
      "cell_type": "code",
      "source": [
        "class OurDenseLayer(torch.nn.Module):\n",
        "  def __init__(self, num_inputs, num_outputs):\n",
        "    super(OurDenseLayer, self).__init__()\n",
        "\n",
        "    self.W = torch.nn.Parameter(torch.randn(num_inputs, num_outputs))\n",
        "    self.bias = torch.nn.Parameter(torch.randn(num_outputs))\n",
        "\n",
        "\n",
        "  def forward(self, x):\n",
        "    z = torch.matmul(x, self.W) + self.bias\n",
        "    y = torch.sigmoid(z)\n",
        "    return y\n"
      ],
      "metadata": {
        "id": "sNd5azk4vlHm"
      },
      "execution_count": 19,
      "outputs": []
    },
    {
      "cell_type": "code",
      "source": [
        "## Define a layer and test the output\n",
        "\n",
        "num_inputs = 2\n",
        "num_outputs = 3\n",
        "\n",
        "layer = OurDenseLayer(num_inputs = num_inputs, num_outputs = num_outputs)\n",
        "\n",
        "x_input = torch.randn(num_inputs)\n",
        "y = layer(x_input)\n",
        "\n",
        "print(y)\n",
        "print(\"output result:{}\".format(y))\n",
        "print(f\"output results: {y}.\")\n",
        "print(f\"input shape: {x_input.shape}\")\n",
        "print(f\"output shape: {y.shape}\")"
      ],
      "metadata": {
        "colab": {
          "base_uri": "https://localhost:8080/"
        },
        "id": "nbXVtyxTweBA",
        "outputId": "8c74e16b-131d-44a7-c2c0-bc7c90f3ca12"
      },
      "execution_count": 25,
      "outputs": [
        {
          "output_type": "stream",
          "name": "stdout",
          "text": [
            "tensor([0.8420, 0.0945, 0.1576], grad_fn=<SigmoidBackward0>)\n",
            "output result:tensor([0.8420, 0.0945, 0.1576], grad_fn=<SigmoidBackward0>)\n",
            "output results: tensor([0.8420, 0.0945, 0.1576], grad_fn=<SigmoidBackward0>).\n",
            "input shape: torch.Size([2])\n",
            "output shape: torch.Size([3])\n"
          ]
        }
      ]
    },
    {
      "cell_type": "code",
      "source": [
        "# Define a layer and test the output!\n",
        "num_inputs = 2\n",
        "num_outputs = 3\n",
        "layer = OurDenseLayer(num_inputs, num_outputs)\n",
        "x_input = torch.tensor([[1, 2.]])\n",
        "y = layer(x_input)\n",
        "\n",
        "print(f\"input shape: {x_input.shape}\")\n",
        "print(f\"output shape: {y.shape}\")\n",
        "print(f\"output result: {y}\")"
      ],
      "metadata": {
        "id": "zqSvvn6dwdR0"
      },
      "execution_count": null,
      "outputs": []
    },
    {
      "cell_type": "code",
      "source": [
        "class OurDenseLayer(torch.nn.Module):\n",
        "    def __init__(self, num_inputs, num_outputs):\n",
        "        super(OurDenseLayer, self).__init__()    ## Call nn.Module's constructor to initialize nn.Module properly\n",
        "        # Define and initialize parameters: a weight matrix W and bias b\n",
        "        # Note that the parameter initialize is random!\n",
        "        # torch.nn.Parameter marks self.W and self.bias as trainable parameters.\n",
        "        self.W = torch.nn.Parameter(torch.randn(num_inputs, num_outputs))  # weight matrix\n",
        "        self.bias = torch.nn.Parameter(torch.randn(num_outputs))    # vector\n",
        "\n",
        "    def forward(self, x):\n",
        "        '''TODO: define the operation for z (hint: use torch.matmul).'''\n",
        "        z = torch.matmul(x, self.W) + self.bias\n",
        "\n",
        "        '''TODO: define the operation for out (hint: use torch.sigmoid).'''\n",
        "        y = torch.sigmoid(z)\n",
        "        return y\n"
      ],
      "metadata": {
        "id": "q-ZJkgpfrJaX"
      },
      "execution_count": null,
      "outputs": []
    },
    {
      "cell_type": "markdown",
      "source": [
        "## Conveniently, PyTorch has defined a number of nn.Modules (or Layers) that are commonly used in neural networks, for example a nn.Linear or nn.Sigmoid module.\n",
        "\n",
        "Now, instead of using a single Module to define our simple neural network, we'll use the nn.Sequential module from PyTorch and a single nn.Linear layer to define our network. With the Sequential API, you can readily create neural networks by stacking together layers like building blocks.\n",
        "\n"
      ],
      "metadata": {
        "id": "osv76wX74Nwu"
      }
    },
    {
      "cell_type": "code",
      "source": [
        "## Defining a neural network using the PyTorch Sequential API\n",
        "\n",
        "\n",
        "# define the number of inputs and outputs\n",
        "n_input_nodes = 2\n",
        "n_output_nodes = 3\n",
        "\n",
        "model = nn.Sequential(\n",
        "   nn.Linear(n_input_nodes, n_output_nodes),\n",
        "   nn.Sigmoid()\n",
        ")"
      ],
      "metadata": {
        "id": "OCXdS4G84Zef"
      },
      "execution_count": null,
      "outputs": []
    },
    {
      "cell_type": "code",
      "source": [
        "### Defining a neural network using the PyTorch Sequential API ###\n",
        "\n",
        "# define the number of inputs and outputs\n",
        "n_input_nodes = 2\n",
        "n_output_nodes = 3\n",
        "\n",
        "# Define the model\n",
        "'''TODO: Use the Sequential API to define a neural network with a\n",
        "    single linear (dense!) layer, followed by non-linearity to compute z'''\n",
        "# model = nn.Sequential( ''' TODO ''' )\n",
        "model = nn.Sequential(\n",
        "    # linear layer with input size 2 and output size 3\n",
        "    nn.Linear(n_input_nodes, n_output_nodes),\n",
        "    # Sigmoid activation function\n",
        "    nn.Sigmoid()\n",
        ")\n"
      ],
      "metadata": {
        "id": "22rpPofy4Qwo"
      },
      "execution_count": 26,
      "outputs": []
    },
    {
      "cell_type": "code",
      "source": [
        "x_input = torch.randn(2)\n",
        "y = model(x_input)\n",
        "\n",
        "print(f\"output: {y}\")\n",
        "print(f\"output shape: {y.shape}\")"
      ],
      "metadata": {
        "colab": {
          "base_uri": "https://localhost:8080/"
        },
        "id": "gVGxVAHU6iny",
        "outputId": "8a2a68b2-cdf4-4c25-f55a-86b130a7c47a"
      },
      "execution_count": 27,
      "outputs": [
        {
          "output_type": "stream",
          "name": "stdout",
          "text": [
            "output: tensor([0.2269, 0.8890, 0.3902], grad_fn=<SigmoidBackward0>)\n",
            "output shape: torch.Size([3])\n"
          ]
        }
      ]
    },
    {
      "cell_type": "markdown",
      "source": [
        "## Define a new model\n",
        "\n",
        "Using subclassing and using PyTorch's built in linear layer from nn.Linear\n",
        "\n",
        "\n"
      ],
      "metadata": {
        "id": "hiWS8ZS98vA8"
      }
    },
    {
      "cell_type": "code",
      "source": [
        "class LinearWithSigmoidActivation(nn.Module):\n",
        "  def __init__(self, num_inputs, num_outputs):\n",
        "    super(LinearWithSigmoidActivation, self).__init__()\n",
        "\n",
        "    self.linear = nn.Linear(num_inputs, num_outputs) # a new attributes of the subclass LinearWithSigmoidActivation\n",
        "    self.activation = nn.Sigmoid()\n",
        "\n",
        "\n",
        "  def forward(self, x):\n",
        "    linear_output = self.linear(x)\n",
        "    output = self.activation(linear_output)\n",
        "\n",
        "    return output\n"
      ],
      "metadata": {
        "id": "onZWZrR288oO"
      },
      "execution_count": 31,
      "outputs": []
    },
    {
      "cell_type": "code",
      "source": [
        "num_inputs = 2\n",
        "num_outputs = 3\n",
        "\n",
        "x_input = torch.randn(2)\n",
        "\n",
        "layer = LinearWithSigmoidActivation(num_inputs=num_inputs, num_outputs=num_outputs)\n",
        "y = layer(x_input)\n",
        "\n",
        "print(f\"output:{y}\")\n",
        "print(f\"outpu shape: {y.shape}\")"
      ],
      "metadata": {
        "colab": {
          "base_uri": "https://localhost:8080/"
        },
        "id": "zsR_CZQb9-6B",
        "outputId": "09486aac-e1f3-48f7-b638-8b260a79b347"
      },
      "execution_count": 32,
      "outputs": [
        {
          "output_type": "stream",
          "name": "stdout",
          "text": [
            "output:tensor([0.7149, 0.3342, 0.6638], grad_fn=<SigmoidBackward0>)\n",
            "outpu shape: torch.Size([3])\n"
          ]
        }
      ]
    },
    {
      "cell_type": "markdown",
      "source": [
        "## nn.Module affords us a lot of flexibility to define custom models\n",
        "\n",
        "\n",
        "we can use boolean arguments in the forward function to specify different network behaviors, for example different behaviors during training and inference.\n",
        "\n",
        "Let's suppose under some instances we want our network to simply output the input, without any perturbation. We define a boolean argument isidentity to control this behavior:\n",
        "\n",
        "\n",
        "\n"
      ],
      "metadata": {
        "id": "5MSaUeD1_nK1"
      }
    },
    {
      "cell_type": "code",
      "source": [
        "class LinearButSometimesIdentity(nn.Module):\n",
        "  def __init__(self, num_inputs, num_outputs):\n",
        "      super(LinearButSometimesIdentity, self).__init__()\n",
        "\n",
        "      self.linear = nn.Linear(num_inputs, num_outputs)\n",
        "\n",
        "\n",
        "  def forward(self, inputs, isidentity = False):\n",
        "      if isidentity:\n",
        "          return inputs ## no linear combinations\n",
        "      else:\n",
        "          return self.linear(inputs)"
      ],
      "metadata": {
        "id": "QwkbJf89A0Lu"
      },
      "execution_count": 39,
      "outputs": []
    },
    {
      "cell_type": "code",
      "source": [
        "class LinearButSometimesIdentity(nn.Module):\n",
        "    def __init__(self, num_inputs, num_outputs):\n",
        "        super(LinearButSometimesIdentity, self).__init__()\n",
        "\n",
        "        self.linear = nn.Linear(num_inputs, num_outputs)\n",
        "\n",
        "\n",
        "    def forward(self, inputs, isidentity = False):\n",
        "        if isidentity:\n",
        "            return inputs\n",
        "        else:\n",
        "            return self.linear(inputs)\n",
        "\n"
      ],
      "metadata": {
        "id": "Fiqhs1IAC_EK"
      },
      "execution_count": 41,
      "outputs": []
    },
    {
      "cell_type": "code",
      "source": [
        "num_inputs = 2\n",
        "num_outputs = 3\n",
        "\n",
        "x_input = torch.randn(num_inputs)\n",
        "\n",
        "model = LinearButSometimesIdentity(num_inputs=num_inputs, num_outputs=num_outputs)\n",
        "\n",
        "y_with_linear = model(x_input, isidentity = False) # with linear transformation\n",
        "print(f\"output with linear: {y_with_linear}\")\n",
        "\n",
        "\n",
        "y_identity = model(x_input, isidentity = True) # no linear transformation\n",
        "print(f\"output without linear: {y_identity}\")\n"
      ],
      "metadata": {
        "colab": {
          "base_uri": "https://localhost:8080/"
        },
        "id": "TvhhtKTVDbwy",
        "outputId": "80b0faaa-8b97-429b-dfae-da051e36eca7"
      },
      "execution_count": 42,
      "outputs": [
        {
          "output_type": "stream",
          "name": "stdout",
          "text": [
            "output with linear: tensor([ 0.3874, -0.1941, -0.7050], grad_fn=<ViewBackward0>)\n",
            "output without linear: tensor([ 0.0013, -0.5954])\n"
          ]
        }
      ]
    },
    {
      "cell_type": "code",
      "source": [
        "num_inputs = 2\n",
        "num_outputs = 3\n",
        "\n",
        "x_input = torch.randn(2)\n",
        "\n",
        "\n",
        "layer = LinearButSometimesIdentity(num_inputs=num_inputs, num_outputs=num_outputs)\n",
        "\n",
        "y_identity = layer(x_input, isidentity = True)\n",
        "print(f\"output with identity: {y_identity}\")\n",
        "\n",
        "y_linear = layer(x_input, isidentity = False)\n",
        "print(f\"output with linear: {y_linear}\")"
      ],
      "metadata": {
        "colab": {
          "base_uri": "https://localhost:8080/"
        },
        "id": "Z9cezvAVBXan",
        "outputId": "6e6e6fb2-b41e-43ac-cb9d-24924280eacb"
      },
      "execution_count": 40,
      "outputs": [
        {
          "output_type": "stream",
          "name": "stdout",
          "text": [
            "output with identity: tensor([0.3280, 0.7797])\n",
            "output with linear: tensor([-0.3458, -0.2546, -0.5705], grad_fn=<ViewBackward0>)\n"
          ]
        }
      ]
    },
    {
      "cell_type": "code",
      "source": [
        "# Test the IdentityModel\n",
        "model = LinearButSometimesIdentity(num_inputs=2, num_outputs=3)\n",
        "x_input = torch.tensor([[1, 2.]])\n",
        "\n",
        "'''TODO: pass the input into the model and call with and without the input identity option.'''\n",
        "out_with_linear = model(x_input)  # TODO\n",
        "# out_with_linear = # TODO\n",
        "\n",
        "out_with_identity = model(x_input, isidentity=True)  # TODO\n",
        "# out_with_identity = # TODO\n",
        "\n",
        "print(f\"input: {x_input}\")\n",
        "print(\"Network linear output: {}; network identity output: {}\".format(out_with_linear, out_with_identity))"
      ],
      "metadata": {
        "id": "-5FUJb8KCdWT"
      },
      "execution_count": null,
      "outputs": []
    },
    {
      "cell_type": "code",
      "source": [
        "class LinearButSometimesIdentity(nn.Module):\n",
        "    def __init__(self, num_inputs, num_outputs):\n",
        "        super(LinearButSometimesIdentity, self).__init__()\n",
        "        self.linear = nn.Linear(num_inputs, num_outputs)\n",
        "\n",
        "    '''TODO: Implement the behavior where the network outputs the input, unchanged,\n",
        "        under control of the isidentity argument.'''\n",
        "    def forward(self, inputs, isidentity=False):\n",
        "        if isidentity:\n",
        "            return inputs  # TODO\n",
        "        else:\n",
        "            return self.linear(inputs) # TODO\n",
        "    # def forward(self, inputs, isidentity=False):\n",
        "      # TODO\n"
      ],
      "metadata": {
        "id": "fdsME1oy_2gK"
      },
      "execution_count": null,
      "outputs": []
    },
    {
      "cell_type": "markdown",
      "source": [
        "# Implement network training with backpropagation\n",
        "\n",
        "## 1.4 Automatic Differentiation in PyTorch\n",
        "\n",
        "- n PyTorch, torch.autograd is used for automatic differentiation, which is critical for training deep learning models with backpropagation.\n",
        "\n",
        "\n",
        "- will use the PyTorch .backward() method to trace operations for computing gradients\n",
        "\n",
        "- On a tensor, the requires_grad attribute controls whether autograd should record operations on that tensor.\n",
        "\n",
        "- When a forward pass is made through the network, PyTorch builds a computational graph dynamically;\n",
        "\n",
        "-  to compute the gradient, the backward() method is called to perform backpropagation.\n",
        "\n"
      ],
      "metadata": {
        "id": "_bOKx-FREoBd"
      }
    },
    {
      "cell_type": "code",
      "source": [
        "## y = x^2\n",
        "\n",
        "x = torch.tensor(3.0, requires_grad = True)\n",
        "\n",
        "y = x ** 2\n",
        "y.backward()     # compute the grad dy/dx\n",
        "\n",
        "dy_dx = x.grad   # the computed gradiant is stored in x.grad\n",
        "print(\"dy_dx of y = x^2 at x = 3.0 is:\", dy_dx)\n",
        "\n",
        "assert dy_dx == 6.0"
      ],
      "metadata": {
        "colab": {
          "base_uri": "https://localhost:8080/"
        },
        "id": "jZaLNsg-S7OZ",
        "outputId": "fc3c2aa3-a565-4cf8-b0fb-bab06b237b3c"
      },
      "execution_count": 43,
      "outputs": [
        {
          "output_type": "stream",
          "name": "stdout",
          "text": [
            "dy_dx of y = x^2 at x = 3.0 is: tensor(6.)\n"
          ]
        }
      ]
    },
    {
      "cell_type": "code",
      "source": [
        "x = torch.tensor(3.0, requires_grad=True)\n",
        "\n",
        "y = x ** 2\n",
        "y.backward() # compute the grad dy/dx\n",
        "\n",
        "dy_dx = x.grad\n",
        "print(\"dy_dx of y = x^2 at x = 3.0 is: \", dy_dx)"
      ],
      "metadata": {
        "colab": {
          "base_uri": "https://localhost:8080/"
        },
        "id": "lstkg32gUwSK",
        "outputId": "17855b71-7f56-441a-bbfa-eefdacdeeb98"
      },
      "execution_count": 44,
      "outputs": [
        {
          "output_type": "stream",
          "name": "stdout",
          "text": [
            "dy_dx of y = x^2 at x = 3.0 is:  tensor(6.)\n"
          ]
        }
      ]
    },
    {
      "cell_type": "code",
      "source": [
        "### Gradient computation ###\n",
        "\n",
        "# y = x^2\n",
        "# Example: x = 3.0\n",
        "x = torch.tensor(3.0, requires_grad=True)\n",
        "y = x ** 2\n",
        "y.backward()  # Compute the gradient\n",
        "\n",
        "dy_dx = x.grad\n",
        "print(\"dy_dx of y=x^2 at x=3.0 is: \", dy_dx)\n",
        "assert dy_dx == 6.0\n"
      ],
      "metadata": {
        "id": "AfATrHTtEvG7"
      },
      "execution_count": null,
      "outputs": []
    },
    {
      "cell_type": "markdown",
      "source": [
        "## In training neural networks, we use differentiation and stochastic gradient descent (SGD) to optimize a loss function.\n",
        "\n",
        "## an example where we use automatic differentiation and SGD to find the minimum of  𝐿=(𝑥−𝑥_𝑓)^2 .\n",
        "\n",
        "##\n",
        "\n"
      ],
      "metadata": {
        "id": "Q-01A3P3VFrD"
      }
    },
    {
      "cell_type": "code",
      "source": [
        "### Function minimization with autograd and gradient descent ###\n",
        "\n",
        "\n",
        "x = torch.tensor([2.0], requires_grad=True)\n",
        "\n",
        "for i in range(3):\n",
        "    loss = (x - 4) ** 2  # Compute loss\n",
        "    loss.backward()  # Compute gradient\n",
        "\n",
        "    with torch.no_grad():  # don't save grad to save memory\n",
        "        x -= 0.1 * x.grad  # Update x\n",
        "\n",
        "    x.grad.zero_()  # Reset gradient for next iteration to avoid grad adds up and overshoot\n",
        "\n",
        "    print(f\"Iteration {i+1}: x = {x.item()}\")"
      ],
      "metadata": {
        "id": "VO9kuCRBVgaY"
      },
      "execution_count": null,
      "outputs": []
    },
    {
      "cell_type": "code",
      "source": [
        "import torch\n",
        "import matplotlib.pyplot as plt\n",
        "\n",
        "\n",
        "# initialize x as a tensor with requires_grad = True\n",
        "x = torch.randn(1, requires_grad = True)\n",
        "\n",
        "learning_rate = 1e-2\n",
        "x_f = 4 # target\n",
        "\n",
        "history = [] # to collect\n",
        "\n",
        "for i in range(500):\n",
        "    loss = (x - x_f) ** 2  # compute loss\n",
        "\n",
        "    loss.backward() # compute grad of loss\n",
        "\n",
        "    with torch.no_grad():\n",
        "         x -= learning_rate * x.grad    # update x with grad descent\n",
        "         x.grad.zero_()                # reset gradient to zero to avoid add up\n",
        "\n",
        "    history.append(x.item())         # store x's value for plotting\n",
        "\n",
        "    print(f\"iteration i\")\n",
        "\n",
        "plt.plot(history)\n",
        "plt.axhline(y = x_f, color = \"r\", linestyle = \"--\")\n",
        "plt.plot([0, 500], [x_f, x_f])\n",
        "plt.legend((\"Prediction\", \"True\"))\n",
        "plt.xlabel(\"Iteration\")\n",
        "plt.ylabel(\"x-value\")\n",
        "plt.show()\n"
      ],
      "metadata": {
        "colab": {
          "base_uri": "https://localhost:8080/",
          "height": 449
        },
        "id": "c6Jic_oXvBEC",
        "outputId": "605b0e59-f2ae-42ae-8fb2-e6c78bf4467e"
      },
      "execution_count": 48,
      "outputs": [
        {
          "output_type": "display_data",
          "data": {
            "text/plain": [
              "<Figure size 640x480 with 1 Axes>"
            ],
            "image/png": "[encoded data removed]"
          },
          "metadata": {}
        }
      ]
    },
    {
      "cell_type": "code",
      "source": [
        "import torch\n",
        "import matplotlib.pyplot as plt\n",
        "\n",
        "# initialize x\n",
        "x = torch.randn(1, requires_grad = True)\n",
        "\n",
        "learning_rate = 1e-2\n",
        "x_f = 4 # target\n",
        "\n",
        "history = []\n",
        "\n",
        "for i in range(500):\n",
        "    loss = (x - x_f) ** 2 # compute loss\n",
        "\n",
        "    loss.backward() # copute grad of loss\n",
        "\n",
        "    with torch.no_grad():\n",
        "        x -= learning_rate * x.grad\n",
        "        x.grad.zero_()\n",
        "\n",
        "    history.append(x.item())     # append scalar\n",
        "\n",
        "    print(f\"iteration {i}\", x.item())     # i start from 0\n",
        "\n",
        "\n",
        "plt.plot(history)\n",
        "plt.axhline(y = x_f, color = \"r\", linestyle = \"--\")\n",
        "plt.plot([0, 500], [x_f, x_f])\n",
        "plt.legend((\"prediction\", \"true\"))\n",
        "plt.xlabel(\"Iteration\")\n",
        "plt.ylabel(\"x-value\")\n",
        "plt.show()\n",
        "\n",
        "\n"
      ],
      "metadata": {
        "colab": {
          "base_uri": "https://localhost:8080/",
          "height": 1000
        },
        "id": "PRrBgNXf4E70",
        "outputId": "2d9c838d-71d4-4c1b-81b0-91ee64f65387"
      },
      "execution_count": 49,
      "outputs": [
        {
          "output_type": "stream",
          "name": "stdout",
          "text": [
            "iteration 0 -0.8158488869667053\n",
            "iteration 1 -0.7195318937301636\n",
            "iteration 2 -0.6251412630081177\n",
            "iteration 3 -0.532638430595398\n",
            "iteration 4 -0.4419856667518616\n",
            "iteration 5 -0.353145956993103\n",
            "iteration 6 -0.2660830318927765\n",
            "iteration 7 -0.18076136708259583\n",
            "iteration 8 -0.09714613854885101\n",
            "iteration 9 -0.015203222632408142\n",
            "iteration 10 0.06510083377361298\n",
            "iteration 11 0.1437988132238388\n",
            "iteration 12 0.2209228277206421\n",
            "iteration 13 0.2965043783187866\n",
            "iteration 14 0.37057429552078247\n",
            "iteration 15 0.44316279888153076\n",
            "iteration 16 0.5142995119094849\n",
            "iteration 17 0.5840135216712952\n",
            "iteration 18 0.6523332595825195\n",
            "iteration 19 0.7192865610122681\n",
            "iteration 20 0.7849008440971375\n",
            "iteration 21 0.8492028117179871\n",
            "iteration 22 0.9122187495231628\n",
            "iteration 23 0.973974347114563\n",
            "iteration 24 1.0344948768615723\n",
            "iteration 25 1.093804955482483\n",
            "iteration 26 1.1519289016723633\n",
            "iteration 27 1.2088903188705444\n",
            "iteration 28 1.2647124528884888\n",
            "iteration 29 1.31941819190979\n",
            "iteration 30 1.3730298280715942\n",
            "iteration 31 1.4255691766738892\n",
            "iteration 32 1.4770578145980835\n",
            "iteration 33 1.5275166034698486\n",
            "iteration 34 1.5769662857055664\n",
            "iteration 35 1.625427007675171\n",
            "iteration 36 1.672918438911438\n",
            "iteration 37 1.7194600105285645\n",
            "iteration 38 1.7650707960128784\n",
            "iteration 39 1.8097693920135498\n",
            "iteration 40 1.8535740375518799\n",
            "iteration 41 1.8965024948120117\n",
            "iteration 42 1.9385724067687988\n",
            "iteration 43 1.9798009395599365\n",
            "iteration 44 2.020205020904541\n",
            "iteration 45 2.059800863265991\n",
            "iteration 46 2.098604917526245\n",
            "iteration 47 2.1366329193115234\n",
            "iteration 48 2.1739003658294678\n",
            "iteration 49 2.2104222774505615\n",
            "iteration 50 2.246213912963867\n",
            "iteration 51 2.281289577484131\n",
            "iteration 52 2.3156638145446777\n",
            "iteration 53 2.3493504524230957\n",
            "iteration 54 2.3823635578155518\n",
            "iteration 55 2.4147162437438965\n",
            "iteration 56 2.4464218616485596\n",
            "iteration 57 2.4774935245513916\n",
            "iteration 58 2.507943630218506\n",
            "iteration 59 2.5377848148345947\n",
            "iteration 60 2.5670289993286133\n",
            "iteration 61 2.5956883430480957\n",
            "iteration 62 2.623774528503418\n",
            "iteration 63 2.651298999786377\n",
            "iteration 64 2.6782729625701904\n",
            "iteration 65 2.704707622528076\n",
            "iteration 66 2.7306134700775146\n",
            "iteration 67 2.7560012340545654\n",
            "iteration 68 2.78088116645813\n",
            "iteration 69 2.8052635192871094\n",
            "iteration 70 2.829158306121826\n",
            "iteration 71 2.8525750637054443\n",
            "iteration 72 2.875523567199707\n",
            "iteration 73 2.898013114929199\n",
            "iteration 74 2.9200527667999268\n",
            "iteration 75 2.9416518211364746\n",
            "iteration 76 2.9628188610076904\n",
            "iteration 77 2.983562469482422\n",
            "iteration 78 3.0038912296295166\n",
            "iteration 79 3.023813486099243\n",
            "iteration 80 3.043337106704712\n",
            "iteration 81 3.0624704360961914\n",
            "iteration 82 3.081221103668213\n",
            "iteration 83 3.0995967388153076\n",
            "iteration 84 3.1176047325134277\n",
            "iteration 85 3.1352527141571045\n",
            "iteration 86 3.152547597885132\n",
            "iteration 87 3.169496536254883\n",
            "iteration 88 3.1861066818237305\n",
            "iteration 89 3.2023844718933105\n",
            "iteration 90 3.218336820602417\n",
            "iteration 91 3.2339701652526855\n",
            "iteration 92 3.249290704727173\n",
            "iteration 93 3.2643048763275146\n",
            "iteration 94 3.2790188789367676\n",
            "iteration 95 3.29343843460083\n",
            "iteration 96 3.307569742202759\n",
            "iteration 97 3.321418285369873\n",
            "iteration 98 3.3349900245666504\n",
            "iteration 99 3.348290205001831\n",
            "iteration 100 3.3613243103027344\n",
            "iteration 101 3.3740978240966797\n",
            "iteration 102 3.386615753173828\n",
            "iteration 103 3.39888334274292\n",
            "iteration 104 3.410905599594116\n",
            "iteration 105 3.422687530517578\n",
            "iteration 106 3.4342336654663086\n",
            "iteration 107 3.4455490112304688\n",
            "iteration 108 3.4566380977630615\n",
            "iteration 109 3.46750545501709\n",
            "iteration 110 3.4781553745269775\n",
            "iteration 111 3.4885921478271484\n",
            "iteration 112 3.4988203048706055\n",
            "iteration 113 3.5088438987731934\n",
            "iteration 114 3.518666982650757\n",
            "iteration 115 3.5282936096191406\n",
            "iteration 116 3.5377278327941895\n",
            "iteration 117 3.54697322845459\n",
            "iteration 118 3.5560338497161865\n",
            "iteration 119 3.564913272857666\n",
            "iteration 120 3.573615074157715\n",
            "iteration 121 3.5821428298950195\n",
            "iteration 122 3.5904998779296875\n",
            "iteration 123 3.5986897945404053\n",
            "iteration 124 3.6067159175872803\n",
            "iteration 125 3.61458158493042\n",
            "iteration 126 3.6222898960113525\n",
            "iteration 127 3.6298441886901855\n",
            "iteration 128 3.637247323989868\n",
            "iteration 129 3.6445024013519287\n",
            "iteration 130 3.6516122817993164\n",
            "iteration 131 3.6585800647735596\n",
            "iteration 132 3.6654083728790283\n",
            "iteration 133 3.672100305557251\n",
            "iteration 134 3.6786582469940186\n",
            "iteration 135 3.6850850582122803\n",
            "iteration 136 3.6913833618164062\n",
            "iteration 137 3.6975557804107666\n",
            "iteration 138 3.7036046981811523\n",
            "iteration 139 3.7095324993133545\n",
            "iteration 140 3.715341806411743\n",
            "iteration 141 3.7210350036621094\n",
            "iteration 142 3.726614236831665\n",
            "iteration 143 3.732081890106201\n",
            "iteration 144 3.737440347671509\n",
            "iteration 145 3.7426915168762207\n",
            "iteration 146 3.747837781906128\n",
            "iteration 147 3.7528810501098633\n",
            "iteration 148 3.7578234672546387\n",
            "iteration 149 3.762666940689087\n",
            "iteration 150 3.76741361618042\n",
            "iteration 151 3.7720654010772705\n",
            "iteration 152 3.7766242027282715\n",
            "iteration 153 3.7810916900634766\n",
            "iteration 154 3.7854697704315186\n",
            "iteration 155 3.7897603511810303\n",
            "iteration 156 3.7939651012420654\n",
            "iteration 157 3.7980856895446777\n",
            "iteration 158 3.8021240234375\n",
            "iteration 159 3.806081533432007\n",
            "iteration 160 3.809959888458252\n",
            "iteration 161 3.813760757446289\n",
            "iteration 162 3.8174855709075928\n",
            "iteration 163 3.8211357593536377\n",
            "iteration 164 3.8247129917144775\n",
            "iteration 165 3.828218698501587\n",
            "iteration 166 3.8316543102264404\n",
            "iteration 167 3.8350212574005127\n",
            "iteration 168 3.838320732116699\n",
            "iteration 169 3.8415544033050537\n",
            "iteration 170 3.8447232246398926\n",
            "iteration 171 3.8478288650512695\n",
            "iteration 172 3.850872278213501\n",
            "iteration 173 3.8538548946380615\n",
            "iteration 174 3.8567779064178467\n",
            "iteration 175 3.859642267227173\n",
            "iteration 176 3.8624494075775146\n",
            "iteration 177 3.8652005195617676\n",
            "iteration 178 3.867896556854248\n",
            "iteration 179 3.8705387115478516\n",
            "iteration 180 3.8731279373168945\n",
            "iteration 181 3.8756654262542725\n",
            "iteration 182 3.8781521320343018\n",
            "iteration 183 3.880589008331299\n",
            "iteration 184 3.882977247238159\n",
            "iteration 185 3.885317802429199\n",
            "iteration 186 3.8876113891601562\n",
            "iteration 187 3.889859199523926\n",
            "iteration 188 3.892061948776245\n",
            "iteration 189 3.8942208290100098\n",
            "iteration 190 3.896336317062378\n",
            "iteration 191 3.898409605026245\n",
            "iteration 192 3.9004414081573486\n",
            "iteration 193 3.902432680130005\n",
            "iteration 194 3.904384136199951\n",
            "iteration 195 3.906296491622925\n",
            "iteration 196 3.908170461654663\n",
            "iteration 197 3.9100069999694824\n",
            "iteration 198 3.91180682182312\n",
            "iteration 199 3.9135706424713135\n",
            "iteration 200 3.9152991771698\n",
            "iteration 201 3.9169931411743164\n",
            "iteration 202 3.9186532497406006\n",
            "iteration 203 3.9202802181243896\n",
            "iteration 204 3.921874523162842\n",
            "iteration 205 3.9234371185302734\n",
            "iteration 206 3.9249684810638428\n",
            "iteration 207 3.926469087600708\n",
            "iteration 208 3.9279396533966064\n",
            "iteration 209 3.9293808937072754\n",
            "iteration 210 3.930793285369873\n",
            "iteration 211 3.9321773052215576\n",
            "iteration 212 3.9335336685180664\n",
            "iteration 213 3.9348630905151367\n",
            "iteration 214 3.9361658096313477\n",
            "iteration 215 3.9374425411224365\n",
            "iteration 216 3.9386937618255615\n",
            "iteration 217 3.939919948577881\n",
            "iteration 218 3.9411215782165527\n",
            "iteration 219 3.9422991275787354\n",
            "iteration 220 3.943453073501587\n",
            "iteration 221 3.9445838928222656\n",
            "iteration 222 3.945692300796509\n",
            "iteration 223 3.9467785358428955\n",
            "iteration 224 3.947843074798584\n",
            "iteration 225 3.9488861560821533\n",
            "iteration 226 3.949908494949341\n",
            "iteration 227 3.9509103298187256\n",
            "iteration 228 3.951892137527466\n",
            "iteration 229 3.9528543949127197\n",
            "iteration 230 3.9537973403930664\n",
            "iteration 231 3.954721450805664\n",
            "iteration 232 3.955626964569092\n",
            "iteration 233 3.956514358520508\n",
            "iteration 234 3.9573841094970703\n",
            "iteration 235 3.9582364559173584\n",
            "iteration 236 3.959071636199951\n",
            "iteration 237 3.959890127182007\n",
            "iteration 238 3.9606924057006836\n",
            "iteration 239 3.9614784717559814\n",
            "iteration 240 3.9622488021850586\n",
            "iteration 241 3.9630038738250732\n",
            "iteration 242 3.9637436866760254\n",
            "iteration 243 3.9644687175750732\n",
            "iteration 244 3.965179443359375\n",
            "iteration 245 3.9658758640289307\n",
            "iteration 246 3.9665584564208984\n",
            "iteration 247 3.9672272205352783\n",
            "iteration 248 3.9678826332092285\n",
            "iteration 249 3.968524932861328\n",
            "iteration 250 3.9691543579101562\n",
            "iteration 251 3.969771385192871\n",
            "iteration 252 3.9703760147094727\n",
            "iteration 253 3.97096848487854\n",
            "iteration 254 3.9715490341186523\n",
            "iteration 255 3.9721181392669678\n",
            "iteration 256 3.9726758003234863\n",
            "iteration 257 3.973222255706787\n",
            "iteration 258 3.973757743835449\n",
            "iteration 259 3.9742825031280518\n",
            "iteration 260 3.974796772003174\n",
            "iteration 261 3.9753007888793945\n",
            "iteration 262 3.975794792175293\n",
            "iteration 263 3.976278781890869\n",
            "iteration 264 3.9767532348632812\n",
            "iteration 265 3.9772181510925293\n",
            "iteration 266 3.9776737689971924\n",
            "iteration 267 3.9781203269958496\n",
            "iteration 268 3.978557825088501\n",
            "iteration 269 3.9789867401123047\n",
            "iteration 270 3.9794070720672607\n",
            "iteration 271 3.979818820953369\n",
            "iteration 272 3.980222463607788\n",
            "iteration 273 3.9806180000305176\n",
            "iteration 274 3.9810056686401367\n",
            "iteration 275 3.9813854694366455\n",
            "iteration 276 3.981757640838623\n",
            "iteration 277 3.9821224212646484\n",
            "iteration 278 3.982480049133301\n",
            "iteration 279 3.98283052444458\n",
            "iteration 280 3.9831738471984863\n",
            "iteration 281 3.9835102558135986\n",
            "iteration 282 3.983839988708496\n",
            "iteration 283 3.984163284301758\n",
            "iteration 284 3.9844799041748047\n",
            "iteration 285 3.984790325164795\n",
            "iteration 286 3.9850945472717285\n",
            "iteration 287 3.9853925704956055\n",
            "iteration 288 3.985684633255005\n",
            "iteration 289 3.985970973968506\n",
            "iteration 290 3.9862515926361084\n",
            "iteration 291 3.9865264892578125\n",
            "iteration 292 3.9867959022521973\n",
            "iteration 293 3.987060070037842\n",
            "iteration 294 3.987318754196167\n",
            "iteration 295 3.987572431564331\n",
            "iteration 296 3.987821102142334\n",
            "iteration 297 3.988064765930176\n",
            "iteration 298 3.9883034229278564\n",
            "iteration 299 3.988537311553955\n",
            "iteration 300 3.988766670227051\n",
            "iteration 301 3.9889912605285645\n",
            "iteration 302 3.989211320877075\n",
            "iteration 303 3.989427089691162\n",
            "iteration 304 3.989638566970825\n",
            "iteration 305 3.9898457527160645\n",
            "iteration 306 3.990048885345459\n",
            "iteration 307 3.990247964859009\n",
            "iteration 308 3.990442991256714\n",
            "iteration 309 3.9906342029571533\n",
            "iteration 310 3.990821599960327\n",
            "iteration 311 3.9910051822662354\n",
            "iteration 312 3.991185188293457\n",
            "iteration 313 3.991361379623413\n",
            "iteration 314 3.9915342330932617\n",
            "iteration 315 3.991703510284424\n",
            "iteration 316 3.9918694496154785\n",
            "iteration 317 3.992032051086426\n",
            "iteration 318 3.9921913146972656\n",
            "iteration 319 3.992347478866577\n",
            "iteration 320 3.9925005435943604\n",
            "iteration 321 3.9926505088806152\n",
            "iteration 322 3.992797613143921\n",
            "iteration 323 3.9929416179656982\n",
            "iteration 324 3.9930827617645264\n",
            "iteration 325 3.9932210445404053\n",
            "iteration 326 3.993356704711914\n",
            "iteration 327 3.9934895038604736\n",
            "iteration 328 3.993619680404663\n",
            "iteration 329 3.9937472343444824\n",
            "iteration 330 3.9938724040985107\n",
            "iteration 331 3.993994951248169\n",
            "iteration 332 3.994115114212036\n",
            "iteration 333 3.9942328929901123\n",
            "iteration 334 3.9943482875823975\n",
            "iteration 335 3.9944612979888916\n",
            "iteration 336 3.994572162628174\n",
            "iteration 337 3.994680643081665\n",
            "iteration 338 3.9947869777679443\n",
            "iteration 339 3.9948911666870117\n",
            "iteration 340 3.9949934482574463\n",
            "iteration 341 3.995093584060669\n",
            "iteration 342 3.995191812515259\n",
            "iteration 343 3.9952878952026367\n",
            "iteration 344 3.995382070541382\n",
            "iteration 345 3.995474338531494\n",
            "iteration 346 3.9955649375915527\n",
            "iteration 347 3.9956536293029785\n",
            "iteration 348 3.9957406520843506\n",
            "iteration 349 3.99582576751709\n",
            "iteration 350 3.9959092140197754\n",
            "iteration 351 3.9959909915924072\n",
            "iteration 352 3.9960711002349854\n",
            "iteration 353 3.996149778366089\n",
            "iteration 354 3.9962267875671387\n",
            "iteration 355 3.996302366256714\n",
            "iteration 356 3.9963762760162354\n",
            "iteration 357 3.9964487552642822\n",
            "iteration 358 3.9965198040008545\n",
            "iteration 359 3.996589422225952\n",
            "iteration 360 3.996657609939575\n",
            "iteration 361 3.9967243671417236\n",
            "iteration 362 3.9967899322509766\n",
            "iteration 363 3.996854066848755\n",
            "iteration 364 3.9969170093536377\n",
            "iteration 365 3.996978759765625\n",
            "iteration 366 3.9970390796661377\n",
            "iteration 367 3.997098207473755\n",
            "iteration 368 3.9971561431884766\n",
            "iteration 369 3.997213125228882\n",
            "iteration 370 3.9972689151763916\n",
            "iteration 371 3.997323513031006\n",
            "iteration 372 3.9973771572113037\n",
            "iteration 373 3.997429609298706\n",
            "iteration 374 3.997481107711792\n",
            "iteration 375 3.9975314140319824\n",
            "iteration 376 3.9975807666778564\n",
            "iteration 377 3.997629165649414\n",
            "iteration 378 3.9976766109466553\n",
            "iteration 379 3.99772310256958\n",
            "iteration 380 3.9977686405181885\n",
            "iteration 381 3.9978132247924805\n",
            "iteration 382 3.997856855392456\n",
            "iteration 383 3.9978997707366943\n",
            "iteration 384 3.997941732406616\n",
            "iteration 385 3.997982978820801\n",
            "iteration 386 3.998023271560669\n",
            "iteration 387 3.9980628490448\n",
            "iteration 388 3.9981017112731934\n",
            "iteration 389 3.9981396198272705\n",
            "iteration 390 3.9981768131256104\n",
            "iteration 391 3.998213291168213\n",
            "iteration 392 3.998249053955078\n",
            "iteration 393 3.998284101486206\n",
            "iteration 394 3.9983184337615967\n",
            "iteration 395 3.99835205078125\n",
            "iteration 396 3.998384952545166\n",
            "iteration 397 3.9984171390533447\n",
            "iteration 398 3.9984488487243652\n",
            "iteration 399 3.9984798431396484\n",
            "iteration 400 3.9985103607177734\n",
            "iteration 401 3.998540163040161\n",
            "iteration 402 3.9985692501068115\n",
            "iteration 403 3.9985978603363037\n",
            "iteration 404 3.9986259937286377\n",
            "iteration 405 3.9986534118652344\n",
            "iteration 406 3.998680353164673\n",
            "iteration 407 3.998706817626953\n",
            "iteration 408 3.998732566833496\n",
            "iteration 409 3.998757839202881\n",
            "iteration 410 3.9987826347351074\n",
            "iteration 411 3.998806953430176\n",
            "iteration 412 3.998830795288086\n",
            "iteration 413 3.998854160308838\n",
            "iteration 414 3.9988770484924316\n",
            "iteration 415 3.998899459838867\n",
            "iteration 416 3.9989213943481445\n",
            "iteration 417 3.9989428520202637\n",
            "iteration 418 3.9989640712738037\n",
            "iteration 419 3.9989848136901855\n",
            "iteration 420 3.999005079269409\n",
            "iteration 421 3.9990248680114746\n",
            "iteration 422 3.999044418334961\n",
            "iteration 423 3.999063491821289\n",
            "iteration 424 3.999082326889038\n",
            "iteration 425 3.999100685119629\n",
            "iteration 426 3.9991185665130615\n",
            "iteration 427 3.999136209487915\n",
            "iteration 428 3.9991533756256104\n",
            "iteration 429 3.9991703033447266\n",
            "iteration 430 3.9991869926452637\n",
            "iteration 431 3.9992032051086426\n",
            "iteration 432 3.9992191791534424\n",
            "iteration 433 3.999234676361084\n",
            "iteration 434 3.9992499351501465\n",
            "iteration 435 3.99926495552063\n",
            "iteration 436 3.999279737472534\n",
            "iteration 437 3.9992940425872803\n",
            "iteration 438 3.9993081092834473\n",
            "iteration 439 3.999321937561035\n",
            "iteration 440 3.999335527420044\n",
            "iteration 441 3.9993488788604736\n",
            "iteration 442 3.999361991882324\n",
            "iteration 443 3.9993748664855957\n",
            "iteration 444 3.999387264251709\n",
            "iteration 445 3.999399423599243\n",
            "iteration 446 3.9994113445281982\n",
            "iteration 447 3.999423027038574\n",
            "iteration 448 3.999434471130371\n",
            "iteration 449 3.999445676803589\n",
            "iteration 450 3.9994568824768066\n",
            "iteration 451 3.9994678497314453\n",
            "iteration 452 3.999478578567505\n",
            "iteration 453 3.9994890689849854\n",
            "iteration 454 3.9994993209838867\n",
            "iteration 455 3.999509334564209\n",
            "iteration 456 3.999519109725952\n",
            "iteration 457 3.999528646469116\n",
            "iteration 458 3.9995381832122803\n",
            "iteration 459 3.9995474815368652\n",
            "iteration 460 3.999556541442871\n",
            "iteration 461 3.999565362930298\n",
            "iteration 462 3.9995739459991455\n",
            "iteration 463 3.999582529067993\n",
            "iteration 464 3.9995908737182617\n",
            "iteration 465 3.999598979949951\n",
            "iteration 466 3.9996070861816406\n",
            "iteration 467 3.999614953994751\n",
            "iteration 468 3.9996225833892822\n",
            "iteration 469 3.9996302127838135\n",
            "iteration 470 3.9996376037597656\n",
            "iteration 471 3.9996447563171387\n",
            "iteration 472 3.9996519088745117\n",
            "iteration 473 3.9996588230133057\n",
            "iteration 474 3.9996657371520996\n",
            "iteration 475 3.9996724128723145\n",
            "iteration 476 3.99967885017395\n",
            "iteration 477 3.999685287475586\n",
            "iteration 478 3.9996914863586426\n",
            "iteration 479 3.999697685241699\n",
            "iteration 480 3.9997036457061768\n",
            "iteration 481 3.9997096061706543\n",
            "iteration 482 3.9997153282165527\n",
            "iteration 483 3.999721050262451\n",
            "iteration 484 3.9997265338897705\n",
            "iteration 485 3.99973201751709\n",
            "iteration 486 3.99973726272583\n",
            "iteration 487 3.9997425079345703\n",
            "iteration 488 3.9997477531433105\n",
            "iteration 489 3.9997527599334717\n",
            "iteration 490 3.999757766723633\n",
            "iteration 491 3.999762535095215\n",
            "iteration 492 3.999767303466797\n",
            "iteration 493 3.999772071838379\n",
            "iteration 494 3.999776601791382\n",
            "iteration 495 3.9997811317443848\n",
            "iteration 496 3.9997854232788086\n",
            "iteration 497 3.9997897148132324\n",
            "iteration 498 3.9997940063476562\n",
            "iteration 499 3.999798059463501\n"
          ]
        },
        {
          "output_type": "display_data",
          "data": {
            "text/plain": [
              "<Figure size 640x480 with 1 Axes>"
            ],
            "image/png": "[encoded data removed]"
          },
          "metadata": {}
        }
      ]
    },
    {
      "cell_type": "code",
      "source": [
        "import torch\n",
        "import matplotlib.pyplot as plt\n",
        "\n",
        "# Initialize x as a tensor with requires_grad=True\n",
        "x = torch.randn(1, requires_grad=True)\n",
        "\n",
        "learning_rate = 1e-2  # Learning rate\n",
        "history = []\n",
        "x_f = 4  # Target value\n",
        "\n",
        "for i in range(500):\n",
        "    loss = (x - x_f) ** 2  # Compute loss\n",
        "\n",
        "    loss.backward()  # Compute gradient\n",
        "\n",
        "    with torch.no_grad():  # Ensure gradient tracking is off during update\n",
        "        x -= learning_rate * x.grad  # Update x\n",
        "        x.grad.zero_()  # Reset gradients for next iteration\n",
        "\n",
        "    history.append(x.item())  # Store x's value for plotting\n",
        "\n",
        "# Plot the evolution of x as we optimize toward x_f!\n",
        "plt.plot(history)\n",
        "plt.axhline(y=x_f, color='r', linestyle='--')  # True value of x_f\n",
        "plt.legend(('Predicted', 'True'))\n",
        "plt.xlabel('Iteration')\n",
        "plt.ylabel('x value')\n",
        "plt.show()\n"
      ],
      "metadata": {
        "id": "ipQk-aqZu3rt"
      },
      "execution_count": null,
      "outputs": []
    },
    {
      "cell_type": "markdown",
      "source": [],
      "metadata": {
        "id": "0SApZ54dVfsq"
      }
    }
  ]
}